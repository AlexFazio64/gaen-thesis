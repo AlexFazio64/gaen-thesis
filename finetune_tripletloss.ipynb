{
 "cells": [
  {
   "cell_type": "code",
   "execution_count": null,
   "metadata": {},
   "outputs": [],
   "source": [
    "%pip install scikit-learn sentence-transformers torch datasets wandb einops"
   ]
  },
  {
   "cell_type": "code",
   "execution_count": null,
   "metadata": {},
   "outputs": [],
   "source": [
    "import wandb\n",
    "import tqdm as notebook_tqdm\n",
    "from sentence_transformers import SentenceTransformer, losses, InputExample, util\n",
    "from torch.utils.data import DataLoader\n",
    "from sklearn.model_selection import train_test_split\n",
    "import torch\n",
    "from datasets import Dataset\n",
    "import os\n",
    "import pandas as pd"
   ]
  },
  {
   "cell_type": "code",
   "execution_count": null,
   "metadata": {},
   "outputs": [],
   "source": [
    "data = pd.read_json(\"---\")"
   ]
  },
  {
   "cell_type": "code",
   "execution_count": null,
   "metadata": {},
   "outputs": [],
   "source": [
    "def load_and_split(data, validation_size=0.2, random_state=42):\n",
    "    \"\"\"\n",
    "    Loads triplet data from JSON files using pandas, splits it into training and validation sets.\n",
    "\n",
    "    Args:\n",
    "        json_file_paths (list): List of paths to JSON files.\n",
    "        validation_size (float): Proportion of data to use for validation.\n",
    "        random_state (int): Random state for reproducible splitting.\n",
    "\n",
    "    Returns:\n",
    "        tuple: (train_triplets, val_triplets)\n",
    "    \"\"\"\n",
    "\n",
    "    combined_df = pd.concat([data], ignore_index=True)\n",
    "\n",
    "    train_df, val_df = train_test_split(combined_df, test_size=validation_size, random_state=random_state)\n",
    "\n",
    "    def create_triplets_from_dataframe(df):\n",
    "        anchors = df['anchor'].tolist()\n",
    "        positives = df['positive'].tolist()\n",
    "        negatives = df['negative'].tolist()\n",
    "        return anchors, positives, negatives\n",
    "\n",
    "    train_triplets = create_triplets_from_dataframe(train_df)\n",
    "    val_triplets = create_triplets_from_dataframe(val_df)\n",
    "\n",
    "    return train_triplets, val_triplets\n",
    "\n",
    "train_triplets, val_triplets = load_and_split(data)\n",
    "\n",
    "train_anchors, train_positives, train_negatives = train_triplets\n",
    "val_anchors, val_positives, val_negatives = val_triplets\n",
    "\n",
    "print(f\"Number of training triplets: {len(train_anchors)}\")\n",
    "print(f\"Number of validation triplets: {len(val_anchors)}\")\n",
    "\n",
    "print(train_anchors[0])\n",
    "print(train_positives[0])\n",
    "print(train_negatives[0])"
   ]
  },
  {
   "cell_type": "code",
   "execution_count": null,
   "metadata": {},
   "outputs": [],
   "source": [
    "wandb.login()"
   ]
  },
  {
   "cell_type": "code",
   "execution_count": null,
   "metadata": {},
   "outputs": [],
   "source": [
    "def evaluate_triplets(model, anchors, positives, negatives):\n",
    "    \"\"\"Evaluates triplet data. Prints the mean cosine similarity of the positive and negative pairs.\"\"\"\n",
    "    positive_similarities = []\n",
    "    negative_similarities = []\n",
    "\n",
    "    for anchor, positive, negative in zip(anchors, positives, negatives):\n",
    "        anchor_emb = model.encode(anchor)\n",
    "        positive_emb = model.encode(positive)\n",
    "        negative_emb = model.encode(negative)\n",
    "\n",
    "        positive_similarities.append(util.cos_sim(anchor_emb, positive_emb).item())\n",
    "        negative_similarities.append(util.cos_sim(anchor_emb, negative_emb).item())\n",
    "\n",
    "    print(f\"Mean positive similarity: {sum(positive_similarities) / len(positive_similarities)}\")\n",
    "    print(f\"Mean negative similarity: {sum(negative_similarities) / len(negative_similarities)}\")\n",
    "\n",
    "def finetune_triplet_model(model_name, train_triplets, val_triplets=None,\n",
    "                           epochs=1, batch_size=16, save_path='fine-tuned'):\n",
    "    \"\"\"\n",
    "    Args:\n",
    "        model_name (str): Name of the pre-trained model.\n",
    "        train_triplets (tuple): Tuple of (anchors, positives, negatives) for training.\n",
    "        val_triplets (tuple, optional): Tuple of (anchors, positives, negatives) for validation.\n",
    "        epochs (int): Number of training epochs.\n",
    "        batch_size (int): Batch size for training.\n",
    "        save_path (str): Path to save the fine-tuned model.\n",
    "    \"\"\"\n",
    "\n",
    "    # Determine the starting epoch\n",
    "    start_epoch = 0\n",
    "    if os.path.exists(save_path):\n",
    "        # Check for existing checkpoints\n",
    "        checkpoint_files = [f for f in os.listdir(save_path) if f.startswith('checkpoint_epoch_')]\n",
    "        if checkpoint_files:\n",
    "            # Extract epoch numbers and find the latest\n",
    "            epoch_numbers = [int(f.split('_')[-1]) for f in checkpoint_files]\n",
    "            start_epoch = max(epoch_numbers)\n",
    "            print(f\"Resuming training from epoch {start_epoch + 1}\")\n",
    "    \n",
    "    model = SentenceTransformer(save_path if start_epoch > 0 else model_name)\n",
    "    model.to('cuda')\n",
    "    train_anchors, train_positives, train_negatives = train_triplets\n",
    "\n",
    "    train_data = list(zip(train_anchors, train_positives, train_negatives))\n",
    "    train_examples = [InputExample(texts=list(triplet)) for triplet in train_data]\n",
    "\n",
    "    train_dataloader = DataLoader(train_examples, shuffle=True, batch_size=batch_size)\n",
    "    train_loss = losses.TripletLoss(model=model)\n",
    "    \n",
    "    for epoch in range(start_epoch, epochs):\n",
    "        model.fit(\n",
    "            train_objectives=[(train_dataloader, train_loss)],\n",
    "            epochs=1,  # Train for only 1 epoch at a time\n",
    "            warmup_steps=len(train_dataloader) // 10,  # 10% of data for warm-up\n",
    "        )\n",
    "\n",
    "        # Save checkpoint after each epoch\n",
    "        checkpoint_path = os.path.join(save_path, f'checkpoint_epoch_{epoch + 1}')\n",
    "        model.save(checkpoint_path)\n",
    "        print(f\"Checkpoint saved to {checkpoint_path}\")\n",
    "\n",
    "    # Save the final model\n",
    "    model.save(save_path)\n",
    "    print(f\"Fine-tuned model saved to {save_path}\")\n",
    "\n",
    "    if val_triplets:\n",
    "        val_anchors, val_positives, val_negatives = val_triplets\n",
    "        evaluate_triplets(model, val_anchors, val_positives, val_negatives)"
   ]
  },
  {
   "cell_type": "code",
   "execution_count": null,
   "metadata": {},
   "outputs": [],
   "source": [
    "finetune_triplet_model('sentence-transformers/all-MiniLM-L6-v2', train_triplets, val_triplets, epochs=1, batch_size=4, save_path='miniLM_triplets')"
   ]
  },
  {
   "cell_type": "code",
   "execution_count": null,
   "metadata": {},
   "outputs": [],
   "source": [
    "evaluate_triplets(SentenceTransformer('mpnet_triplets'), val_anchors, val_positives, val_negatives)"
   ]
  },
  {
   "cell_type": "code",
   "execution_count": null,
   "metadata": {},
   "outputs": [],
   "source": [
    "evaluate_triplets(SentenceTransformer('mpnet_triplets'), val_anchors, val_positives, val_negatives)"
   ]
  }
 ],
 "metadata": {
  "kernelspec": {
   "display_name": "Python 3",
   "language": "python",
   "name": "python3"
  },
  "language_info": {
   "codemirror_mode": {
    "name": "ipython",
    "version": 3
   },
   "file_extension": ".py",
   "mimetype": "text/x-python",
   "name": "python",
   "nbconvert_exporter": "python",
   "pygments_lexer": "ipython3",
   "version": "3.12.9"
  }
 },
 "nbformat": 4,
 "nbformat_minor": 2
}
