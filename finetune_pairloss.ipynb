{
 "cells": [
  {
   "cell_type": "code",
   "execution_count": null,
   "metadata": {},
   "outputs": [],
   "source": [
    "%pip install scikit-learn sentence-transformers torch datasets wandb einops"
   ]
  },
  {
   "cell_type": "code",
   "execution_count": null,
   "metadata": {},
   "outputs": [],
   "source": [
    "import wandb\n",
    "import tqdm as notebook_tqdm\n",
    "from sentence_transformers import SentenceTransformer, losses, InputExample, util\n",
    "from torch.utils.data import DataLoader\n",
    "from sklearn.model_selection import train_test_split\n",
    "import torch\n",
    "from datasets import Dataset\n",
    "import os\n",
    "import pandas as pd"
   ]
  },
  {
   "cell_type": "code",
   "execution_count": null,
   "metadata": {},
   "outputs": [],
   "source": [
    "data = pd.read_json(\"---\")"
   ]
  },
  {
   "cell_type": "code",
   "execution_count": null,
   "metadata": {},
   "outputs": [],
   "source": [
    "def load_and_split(data, validation_size=0.2, random_state=42):\n",
    "    \"\"\"\n",
    "    Loads anchor-positive pairs, splits into training and validation sets.\n",
    "\n",
    "    Args:\n",
    "        data (list): List of dictionaries with 'anchor' and 'positive' keys.\n",
    "        validation_size (float): Proportion of data for validation.\n",
    "        random_state (int): Random state for reproducible splitting.\n",
    "\n",
    "    Returns:\n",
    "        tuple: (train_pairs, val_pairs)\n",
    "    \"\"\"\n",
    "\n",
    "    df = pd.DataFrame(data)  # Convert list of dicts to DataFrame\n",
    "\n",
    "    train_df, val_df = train_test_split(df, test_size=validation_size, random_state=random_state)\n",
    "\n",
    "    def create_pairs_from_dataframe(df):\n",
    "        anchors = df['anchor'].tolist()\n",
    "        positives = df['positive'].tolist()\n",
    "        return anchors, positives\n",
    "\n",
    "    train_pairs = create_pairs_from_dataframe(train_df)\n",
    "    val_pairs = create_pairs_from_dataframe(val_df)\n",
    "\n",
    "    return train_pairs, val_pairs\n",
    "\n",
    "# Assuming 'data' is your list of dictionaries\n",
    "train_pairs, val_pairs = load_and_split(data) #uncomment this line when you have data to load\n",
    "\n",
    "train_anchors, train_positives = train_pairs\n",
    "val_anchors, val_positives = val_pairs\n",
    "\n",
    "print(f\"Number of training pairs: {len(train_anchors)}\")\n",
    "print(f\"Number of validation pairs: {len(val_anchors)}\")\n",
    "\n",
    "print(train_anchors[0])\n",
    "print(train_positives[0])"
   ]
  },
  {
   "cell_type": "code",
   "execution_count": null,
   "metadata": {},
   "outputs": [],
   "source": [
    "wandb.login()"
   ]
  },
  {
   "cell_type": "code",
   "execution_count": null,
   "metadata": {},
   "outputs": [],
   "source": [
    "def evaluate_pairs(model, anchors, positives):\n",
    "    \"\"\"Evaluates anchor-positive pairs. Prints the mean cosine similarity.\"\"\"\n",
    "    similarities = []\n",
    "\n",
    "    for anchor, positive in zip(anchors, positives):\n",
    "        anchor_emb = model.encode(anchor)\n",
    "        positive_emb = model.encode(positive)\n",
    "\n",
    "        similarities.append(util.cos_sim(anchor_emb, positive_emb).item())\n",
    "\n",
    "    print(f\"Mean positive similarity: {sum(similarities) / len(similarities)}\")\n",
    "\n",
    "def finetune_pair_model(model_name, train_pairs, val_pairs=None,\n",
    "                        epochs=1, batch_size=16, save_path='fine-tuned'):\n",
    "    \"\"\"\n",
    "    Args:\n",
    "        model_name (str): Name of the pre-trained model.\n",
    "        train_pairs (tuple): Tuple of (anchors, positives) for training.\n",
    "        val_pairs (tuple, optional): Tuple of (anchors, positives) for validation.\n",
    "        epochs (int): Number of training epochs.\n",
    "        batch_size (int): Batch size for training.\n",
    "        save_path (str): Path to save the fine-tuned model.\n",
    "    \"\"\"\n",
    "\n",
    "    # Determine the starting epoch\n",
    "    start_epoch = 0\n",
    "    if os.path.exists(save_path):\n",
    "        # Check for existing checkpoints\n",
    "        checkpoint_files = [f for f in os.listdir(save_path) if f.startswith('checkpoint_epoch_')]\n",
    "        if checkpoint_files:\n",
    "            # Extract epoch numbers and find the latest\n",
    "            epoch_numbers = [int(f.split('_')[-1]) for f in checkpoint_files]\n",
    "            start_epoch = max(epoch_numbers)\n",
    "            print(f\"Resuming training from epoch {start_epoch + 1}\")\n",
    "\n",
    "    model = SentenceTransformer(save_path if start_epoch > 0 else model_name)\n",
    "    model.to('cuda')\n",
    "    train_anchors, train_positives = train_pairs\n",
    "\n",
    "    train_data = list(zip(train_anchors, train_positives))\n",
    "    train_examples = [InputExample(texts=list(pair), label=1.0) for pair in train_data]\n",
    "\n",
    "    train_dataloader = DataLoader(train_examples, shuffle=True, batch_size=batch_size)\n",
    "    train_loss = losses.CosineSimilarityLoss(model=model)\n",
    "\n",
    "    for epoch in range(start_epoch, epochs):\n",
    "        model.fit(\n",
    "            train_objectives=[(train_dataloader, train_loss)],\n",
    "            epochs=1,\n",
    "            warmup_steps=len(train_dataloader) // 10,\n",
    "        )\n",
    "\n",
    "        checkpoint_path = os.path.join(save_path, f'checkpoint_epoch_{epoch + 1}')\n",
    "        model.save(checkpoint_path)\n",
    "        print(f\"Checkpoint saved to {checkpoint_path}\")\n",
    "\n",
    "    model.save(save_path)\n",
    "    print(f\"Fine-tuned model saved to {save_path}\")\n",
    "\n",
    "    if val_pairs:\n",
    "        val_anchors, val_positives = val_pairs\n",
    "        evaluate_pairs(model, val_anchors, val_positives)"
   ]
  },
  {
   "cell_type": "code",
   "execution_count": null,
   "metadata": {},
   "outputs": [],
   "source": [
    "finetune_pair_model('all-mpnet-base-v2', train_pairs, val_pairs, epochs=1, batch_size=6, save_path='mpnet_pair')"
   ]
  }
 ],
 "metadata": {
  "kernelspec": {
   "display_name": "Python 3",
   "language": "python",
   "name": "python3"
  },
  "language_info": {
   "codemirror_mode": {
    "name": "ipython",
    "version": 3
   },
   "file_extension": ".py",
   "mimetype": "text/x-python",
   "name": "python",
   "nbconvert_exporter": "python",
   "pygments_lexer": "ipython3",
   "version": "3.12.9"
  }
 },
 "nbformat": 4,
 "nbformat_minor": 2
}
