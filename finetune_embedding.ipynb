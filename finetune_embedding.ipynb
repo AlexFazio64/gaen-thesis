{
 "cells": [
  {
   "cell_type": "markdown",
   "id": "551753b7-6cd2-4f81-aec0-da119e4705ad",
   "metadata": {
    "id": "551753b7-6cd2-4f81-aec0-da119e4705ad"
   },
   "source": [
    "# Setup"
   ]
  },
  {
   "cell_type": "code",
   "execution_count": null,
   "id": "e973679e",
   "metadata": {
    "collapsed": true,
    "id": "e973679e"
   },
   "outputs": [],
   "source": [
    "%pip install torch transformers sentence-transformers datasets"
   ]
  },
  {
   "cell_type": "markdown",
   "id": "irTuvGD6QKdl",
   "metadata": {
    "id": "irTuvGD6QKdl"
   },
   "source": [
    "# Loading raw Dataset"
   ]
  },
  {
   "cell_type": "code",
   "execution_count": null,
   "id": "Lxzrg8hNq-GX",
   "metadata": {
    "id": "Lxzrg8hNq-GX"
   },
   "outputs": [],
   "source": [
    "import json\n",
    "\n",
    "def load_json_data(filepath):\n",
    "    try:\n",
    "        with open(filepath, 'r') as file:\n",
    "            data = json.load(file)\n",
    "        return data\n",
    "    except FileNotFoundError:\n",
    "        print(f\"Error: File '{filepath}' not found.\")\n",
    "        return None\n",
    "    except json.JSONDecodeError:\n",
    "        print(f\"Error: Invalid JSON format in '{filepath}'.\")\n",
    "        return None\n",
    "\n",
    "nodes = load_json_data(\"---\")\n",
    "dataset = []"
   ]
  },
  {
   "cell_type": "markdown",
   "id": "AL_79WpDk_vS",
   "metadata": {
    "id": "AL_79WpDk_vS"
   },
   "source": [
    "exploration"
   ]
  },
  {
   "cell_type": "code",
   "execution_count": null,
   "id": "mPpTvP0PwhqX",
   "metadata": {
    "collapsed": true,
    "id": "mPpTvP0PwhqX"
   },
   "outputs": [],
   "source": [
    "nodes[0]\n",
    "id = nodes[0].get(\"id\")\n",
    "descr = nodes[0].get(\"Description\")\n",
    "\n",
    "print(id)\n",
    "print(descr)\n",
    "\n",
    "for _ in nodes[0].keys():\n",
    "    if type(nodes[0][_]) == dict:\n",
    "        for __ in nodes[0][_].keys():\n",
    "            if(__ == \"text\") and len(nodes[0][_][__]) > 0:\n",
    "                print(f\"{_} -> {__}: {nodes[0][_][__]}\")"
   ]
  },
  {
   "cell_type": "code",
   "execution_count": null,
   "id": "hhEaZ0J34K-k",
   "metadata": {
    "id": "hhEaZ0J34K-k"
   },
   "outputs": [],
   "source": [
    "for node in nodes:\n",
    "    id = node.get(\"id\")\n",
    "    descr = node.get(\"Description\")\n",
    "\n",
    "    dataset.append({\n",
    "        \"query\": id,\n",
    "        \"document\": descr\n",
    "    })\n",
    "\n",
    "    for _ in node.keys():\n",
    "        if type(node[_]).__name__ == 'dict':\n",
    "            for __ in node[_].keys():\n",
    "                if(__ == \"text\") and len(node[_][__]) > 0:\n",
    "                    dataset.append({\n",
    "                        \"query\": id,\n",
    "                        \"document\": node[_][__]\n",
    "                    })"
   ]
  },
  {
   "cell_type": "markdown",
   "id": "QWwbZi5LQPmf",
   "metadata": {
    "id": "QWwbZi5LQPmf"
   },
   "source": [
    "creation of augmented dataset"
   ]
  },
  {
   "cell_type": "code",
   "execution_count": null,
   "id": "OMLyBtV3AA9G",
   "metadata": {
    "id": "OMLyBtV3AA9G"
   },
   "outputs": [],
   "source": [
    "import pandas as pd\n",
    "\n",
    "df = pd.DataFrame(dataset)\n",
    "df.head(10)\n",
    "\n",
    "df[\"document\"] = df[\"document\"].str.replace(r'\\(.*?\\)', '', regex=True)\n",
    "df[\"document\"] = df[\"document\"].str.replace(r'\\[.*?\\]', '', regex=True)\n",
    "df[\"document\"] = df[\"document\"].str.replace(r'\\n', ' ', regex=True)\n",
    "df[\"document\"] = df[\"document\"].str.replace(r'\\s+', ' ', regex=True)\n",
    "\n",
    "df.head(10)"
   ]
  },
  {
   "cell_type": "markdown",
   "id": "L7ttWoBLQTE4",
   "metadata": {
    "id": "L7ttWoBLQTE4"
   },
   "source": [
    "# Storing the augmented dataset"
   ]
  },
  {
   "cell_type": "code",
   "execution_count": null,
   "id": "TdPuPBY9F-xR",
   "metadata": {
    "id": "TdPuPBY9F-xR"
   },
   "outputs": [],
   "source": [
    "df.to_json(\"---\", orient=\"records\")"
   ]
  },
  {
   "cell_type": "markdown",
   "id": "Tl4AGWToP6ff",
   "metadata": {
    "id": "Tl4AGWToP6ff"
   },
   "source": [
    "# Loading the dataset from drive"
   ]
  },
  {
   "cell_type": "code",
   "execution_count": null,
   "id": "ZmcWULsYHa2P",
   "metadata": {
    "collapsed": true,
    "id": "ZmcWULsYHa2P"
   },
   "outputs": [],
   "source": [
    "from google.colab import drive\n",
    "drive.mount('/content/drive')\n",
    "\n",
    "import pandas as pd\n",
    "\n",
    "original = pd.read_json(\"---\")"
   ]
  },
  {
   "cell_type": "code",
   "execution_count": null,
   "id": "jKPPZC2Puy3n",
   "metadata": {
    "id": "jKPPZC2Puy3n"
   },
   "outputs": [],
   "source": [
    "import pandas as pd\n",
    "import random\n",
    "\n",
    "num_entries = 5\n",
    "random_indices = random.sample(range(len(df)), num_entries)\n",
    "random_entries = df.iloc[random_indices]\n",
    "\n",
    "random_entries"
   ]
  },
  {
   "cell_type": "markdown",
   "id": "_wOEYUnjnWie",
   "metadata": {
    "id": "_wOEYUnjnWie"
   },
   "source": [
    "# Data cleaning"
   ]
  },
  {
   "cell_type": "code",
   "execution_count": null,
   "id": "QPDO26zVw52x",
   "metadata": {
    "id": "QPDO26zVw52x"
   },
   "outputs": [],
   "source": [
    "df = original.copy()\n",
    "df.count()"
   ]
  },
  {
   "cell_type": "markdown",
   "id": "-2_KMty3ac5-",
   "metadata": {
    "id": "-2_KMty3ac5-"
   },
   "source": [
    "normalize & remove empty docs"
   ]
  },
  {
   "cell_type": "code",
   "execution_count": null,
   "id": "WLO6YCU0nWHh",
   "metadata": {
    "id": "WLO6YCU0nWHh"
   },
   "outputs": [],
   "source": [
    "df[\"document\"] = df[\"document\"].str.strip()\n",
    "df[\"document\"] = df[\"document\"].str.lower()\n",
    "\n",
    "df = df[df[\"document\"].str.len() > 0]\n",
    "df.count()"
   ]
  },
  {
   "cell_type": "markdown",
   "id": "34pUcbLuarxv",
   "metadata": {
    "id": "34pUcbLuarxv"
   },
   "source": [
    "duplicates"
   ]
  },
  {
   "cell_type": "code",
   "execution_count": null,
   "id": "5c8jug50yeXr",
   "metadata": {
    "id": "5c8jug50yeXr"
   },
   "outputs": [],
   "source": [
    "duplicate_docs = df[df.duplicated(subset=['document'], keep=False)]\n",
    "duplicate_docs = duplicate_docs.sort_values('document', key=lambda x: x.str.len())\n",
    "duplicate_docs"
   ]
  },
  {
   "cell_type": "markdown",
   "id": "HZ4nkRIya2yN",
   "metadata": {
    "id": "HZ4nkRIya2yN"
   },
   "source": [
    "remove duplicates entirely if under a size threshold"
   ]
  },
  {
   "cell_type": "code",
   "execution_count": null,
   "id": "XZCShWyeCBga",
   "metadata": {
    "id": "XZCShWyeCBga"
   },
   "outputs": [],
   "source": [
    "threshold = 40\n",
    "\n",
    "shorter = duplicate_docs[duplicate_docs[\"document\"].str.len() <= threshold]\n",
    "df = df[~df[\"document\"].isin(shorter[\"document\"])]\n",
    "df.count()"
   ]
  },
  {
   "cell_type": "code",
   "execution_count": null,
   "id": "YnUyt0C1FMbi",
   "metadata": {
    "id": "YnUyt0C1FMbi"
   },
   "outputs": [],
   "source": [
    "duplicate_docs.drop(shorter.index, inplace=True)\n",
    "duplicate_docs"
   ]
  },
  {
   "cell_type": "code",
   "execution_count": null,
   "id": "Civtn2F8HmnP",
   "metadata": {
    "id": "Civtn2F8HmnP"
   },
   "outputs": [],
   "source": [
    "df[df.duplicated(subset=['document'], keep=False)]"
   ]
  },
  {
   "cell_type": "markdown",
   "id": "ZvaYrN7ybLwD",
   "metadata": {
    "id": "ZvaYrN7ybLwD"
   },
   "source": [
    "find rank of queries  \n",
    "\\#number of documents for each query"
   ]
  },
  {
   "cell_type": "code",
   "execution_count": null,
   "id": "xw6fnm292-TP",
   "metadata": {
    "id": "xw6fnm292-TP"
   },
   "outputs": [],
   "source": [
    "query_counts = df.groupby(\"query\")[\"document\"].count()\n",
    "query_counts = query_counts.sort_values(ascending=False)\n",
    "\n",
    "df = df.join(query_counts, on=\"query\", rsuffix=\"_count\")\n",
    "df = df.sort_values(\"document_count\", ascending=False)\n",
    "\n",
    "df.info()"
   ]
  },
  {
   "cell_type": "code",
   "execution_count": null,
   "id": "yS1f5k3PRYZ-",
   "metadata": {
    "id": "yS1f5k3PRYZ-"
   },
   "outputs": [],
   "source": [
    "long_ctx = df[df['query'].isin(duplicate_docs[\"query\"])]\n",
    "long_ctx[[\"query\", \"document_count\"]].drop_duplicates().sort_values(\"document_count\", ascending=False)"
   ]
  },
  {
   "cell_type": "code",
   "execution_count": null,
   "id": "mhA8htRZTfme",
   "metadata": {
    "id": "mhA8htRZTfme"
   },
   "outputs": [],
   "source": [
    "df.drop_duplicates(subset=['document'], inplace=True, keep='first')\n",
    "df = df[[\"query\", \"document\"]].sort_values(\"query\")\n",
    "df.info()"
   ]
  },
  {
   "cell_type": "code",
   "execution_count": null,
   "id": "DqVoak6aVjVP",
   "metadata": {
    "id": "DqVoak6aVjVP"
   },
   "outputs": [],
   "source": [
    "import re\n",
    "def has_html(text):\n",
    "    return bool(re.search(r'<[^>]+>', text))\n",
    "\n",
    "def remove_html(text):\n",
    "    return re.sub(r'<[^>]+>', '', text)\n",
    "\n",
    "df[\"has_html\"] = df[\"document\"].apply(has_html)\n",
    "df[df[\"has_html\"] == True]"
   ]
  },
  {
   "cell_type": "code",
   "execution_count": null,
   "id": "bOb9Y1RyWnar",
   "metadata": {
    "id": "bOb9Y1RyWnar"
   },
   "outputs": [],
   "source": [
    "dirty = df[df[\"has_html\"]]\n",
    "dirty"
   ]
  },
  {
   "cell_type": "code",
   "execution_count": null,
   "id": "uBHEmm_IXLVo",
   "metadata": {
    "id": "uBHEmm_IXLVo"
   },
   "outputs": [],
   "source": [
    "dirty_indices = df[df[\"document\"].isin(dirty[\"document\"])].index\n",
    "df.loc[dirty_indices, \"document\"] = df.loc[dirty_indices, \"document\"].apply(remove_html)\n",
    "df[df[\"document\"].isin(dirty[\"document\"])]"
   ]
  },
  {
   "cell_type": "code",
   "execution_count": null,
   "id": "9FW7m6EnYZj3",
   "metadata": {
    "id": "9FW7m6EnYZj3"
   },
   "outputs": [],
   "source": [
    "df = df.drop(columns=[\"has_html\"])"
   ]
  },
  {
   "cell_type": "code",
   "execution_count": null,
   "id": "_m3MsnOKix1f",
   "metadata": {
    "id": "_m3MsnOKix1f"
   },
   "outputs": [],
   "source": [
    "df"
   ]
  },
  {
   "cell_type": "code",
   "execution_count": null,
   "id": "zd0eeTRhkkWU",
   "metadata": {
    "id": "zd0eeTRhkkWU"
   },
   "outputs": [],
   "source": [
    "df.to_json(\"---\", orient=\"records\")"
   ]
  },
  {
   "cell_type": "markdown",
   "id": "278NLBfMQdB6",
   "metadata": {
    "id": "278NLBfMQdB6"
   },
   "source": [
    "# Data augmentation"
   ]
  },
  {
   "cell_type": "markdown",
   "id": "B7mX-p292yAl",
   "metadata": {
    "id": "B7mX-p292yAl"
   },
   "source": [
    "creating queries starting from multiple-word queries\n",
    "- changing the order of name, surname\n",
    "- splitting names into different queries\n",
    "- nicknames\n",
    "- splitting composite words"
   ]
  },
  {
   "cell_type": "code",
   "execution_count": null,
   "id": "GmCdylolNUIe",
   "metadata": {
    "colab": {
     "base_uri": "https://localhost:8080/"
    },
    "executionInfo": {
     "elapsed": 14,
     "status": "ok",
     "timestamp": 1741886055827,
     "user": {
      "displayName": "AlexFazio64",
      "userId": "13170977382416213410"
     },
     "user_tz": -60
    },
    "id": "GmCdylolNUIe",
    "outputId": "c4e3fcb0-0900-4ba7-f234-4fda71cb4ff1"
   },
   "outputs": [],
   "source": [
    "import random\n",
    "\n",
    "def introduce_typo(word):\n",
    "    typo_type = random.choice([\"substitution\", \"insertion\", \"deletion\", \"transposition\"])\n",
    "    idx = random.randint(0, len(word) - 1)\n",
    "\n",
    "    if typo_type == \"substitution\":\n",
    "        word = word[:idx] + random.choice(\"abcdefghijklmnopqrstuvwxyz\") + word[idx+1:]\n",
    "\n",
    "    elif typo_type == \"insertion\":\n",
    "        word = word[:idx] + random.choice(\"abcdefghijklmnopqrstuvwxyz\") + word[idx:]\n",
    "\n",
    "    elif typo_type == \"deletion\" and len(word) > 1:\n",
    "        word = word[:idx] + word[idx+1:]\n",
    "\n",
    "    elif typo_type == \"transposition\" and len(word) > 1:\n",
    "        if idx < len(word) - 1:\n",
    "            word = word[:idx] + word[idx+1] + word[idx] + word[idx+2:]\n",
    "\n",
    "    return word\n",
    "\n",
    "query = \"Monogatari series\"\n",
    "for _ in range(5):\n",
    "    print(introduce_typo(query))"
   ]
  },
  {
   "cell_type": "markdown",
   "id": "FD4nFLKQyHH4",
   "metadata": {
    "id": "FD4nFLKQyHH4"
   },
   "source": [
    "### loading"
   ]
  },
  {
   "cell_type": "code",
   "execution_count": null,
   "id": "1q-rYQfslJHO",
   "metadata": {
    "colab": {
     "base_uri": "https://localhost:8080/"
    },
    "collapsed": true,
    "executionInfo": {
     "elapsed": 25115,
     "status": "ok",
     "timestamp": 1741890289230,
     "user": {
      "displayName": "AlexFazio64",
      "userId": "13170977382416213410"
     },
     "user_tz": -60
    },
    "id": "1q-rYQfslJHO",
    "outputId": "1313fbbd-771c-487c-844c-157ec6520a17"
   },
   "outputs": [],
   "source": [
    "from google.colab import drive\n",
    "drive.mount('/content/drive')\n",
    "\n",
    "import pandas as pd\n",
    "\n",
    "cleaned = pd.read_json(\"---\")"
   ]
  },
  {
   "cell_type": "code",
   "execution_count": null,
   "id": "f7b0c3ee",
   "metadata": {},
   "outputs": [],
   "source": [
    "import pandas as pd\n",
    "\n",
    "cleaned = pd.read_json(\"---\")"
   ]
  },
  {
   "cell_type": "code",
   "execution_count": null,
   "id": "buDthl3hFRuE",
   "metadata": {
    "colab": {
     "base_uri": "https://localhost:8080/"
    },
    "executionInfo": {
     "elapsed": 97,
     "status": "ok",
     "timestamp": 1741890292145,
     "user": {
      "displayName": "AlexFazio64",
      "userId": "13170977382416213410"
     },
     "user_tz": -60
    },
    "id": "buDthl3hFRuE",
    "outputId": "44f17d05-6f7a-44a6-b08f-e8ea23eaceac"
   },
   "outputs": [],
   "source": [
    "space_queries = cleaned[cleaned[\"anchor\"].str.contains(\" \")]\n",
    "composite = cleaned[cleaned[\"anchor\"].str.contains(\"-\")]\n",
    "parenthesis = cleaned[cleaned[\"anchor\"].str.contains(\"\\\\(\")]\n",
    "\n",
    "merged = pd.concat([space_queries, composite,parenthesis])\n",
    "merged.drop_duplicates(subset=['anchor'], inplace=True)\n",
    "merged.info()"
   ]
  },
  {
   "cell_type": "markdown",
   "id": "FKvhDTaaby_l",
   "metadata": {
    "id": "FKvhDTaaby_l"
   },
   "source": [
    "get the longest prompt for each example"
   ]
  },
  {
   "cell_type": "code",
   "execution_count": null,
   "id": "bYVMf4sTNUG1",
   "metadata": {
    "colab": {
     "base_uri": "https://localhost:8080/"
    },
    "collapsed": true,
    "executionInfo": {
     "elapsed": 232,
     "status": "ok",
     "timestamp": 1741890294075,
     "user": {
      "displayName": "AlexFazio64",
      "userId": "13170977382416213410"
     },
     "user_tz": -60
    },
    "id": "bYVMf4sTNUG1",
    "outputId": "3f5814de-b884-4dbe-cf41-699e31e405cd"
   },
   "outputs": [],
   "source": [
    "merged = merged.sort_values('anchor')\n",
    "idx = merged.groupby('anchor')['positive'].apply(lambda x: x.str.len().idxmax())\n",
    "merged = merged.loc[idx]\n",
    "merged"
   ]
  },
  {
   "cell_type": "markdown",
   "id": "NCoLynCtb3yP",
   "metadata": {
    "id": "NCoLynCtb3yP"
   },
   "source": [
    "find examples with subtitles"
   ]
  },
  {
   "cell_type": "code",
   "execution_count": null,
   "id": "r7mAZT_eVEHf",
   "metadata": {
    "colab": {
     "base_uri": "https://localhost:8080/",
     "height": 423
    },
    "executionInfo": {
     "elapsed": 96,
     "status": "ok",
     "timestamp": 1741884994613,
     "user": {
      "displayName": "AlexFazio64",
      "userId": "13170977382416213410"
     },
     "user_tz": -60
    },
    "id": "r7mAZT_eVEHf",
    "outputId": "e8a6b937-2a41-4f3a-8b59-573a4c7486f8"
   },
   "outputs": [],
   "source": [
    "subtitle = cleaned[cleaned[\"anchor\"].str.contains(':\\\\s\\\\w+\\\\s*\\\\w*', regex=True)]\n",
    "subtitle = subtitle.drop_duplicates(subset=['anchor'])\n",
    "subtitle"
   ]
  },
  {
   "cell_type": "code",
   "execution_count": null,
   "id": "e-2MqCbvW-vo",
   "metadata": {
    "colab": {
     "base_uri": "https://localhost:8080/",
     "height": 423
    },
    "executionInfo": {
     "elapsed": 62,
     "status": "ok",
     "timestamp": 1741885003154,
     "user": {
      "displayName": "AlexFazio64",
      "userId": "13170977382416213410"
     },
     "user_tz": -60
    },
    "id": "e-2MqCbvW-vo",
    "outputId": "7d5773a1-9404-4676-fd78-231737dfba0b"
   },
   "outputs": [],
   "source": [
    "subtitle = cleaned['anchor'].str.extract(r':\\s(\\w+\\s*\\w*)')\n",
    "subtitle.columns = ['anchor']\n",
    "\n",
    "subtitle.dropna(inplace=True)\n",
    "subtitle"
   ]
  },
  {
   "cell_type": "markdown",
   "id": "Mf49Eujwb-7X",
   "metadata": {
    "id": "Mf49Eujwb-7X"
   },
   "source": [
    "merge both"
   ]
  },
  {
   "cell_type": "code",
   "execution_count": null,
   "id": "w7PyxMrKQ-h6",
   "metadata": {
    "collapsed": true,
    "id": "w7PyxMrKQ-h6"
   },
   "outputs": [],
   "source": [
    "merged = merged.join(subtitle[['anchor']], how='left', rsuffix='_other')\n",
    "\n",
    "if 'anchor' in merged.columns and 'anchor_other' in merged.columns:\n",
    "    merged['anchor'] = merged['anchor_other'].fillna(merged['anchor'])\n",
    "    merged = merged.drop(columns=['anchor_other'])"
   ]
  },
  {
   "cell_type": "markdown",
   "id": "is66AutccDH_",
   "metadata": {
    "id": "is66AutccDH_"
   },
   "source": [
    "remove weird characters"
   ]
  },
  {
   "cell_type": "code",
   "execution_count": null,
   "id": "CQvtb937JOHa",
   "metadata": {
    "id": "CQvtb937JOHa"
   },
   "outputs": [],
   "source": [
    "merged.loc[:, 'anchor'] = merged['anchor'].apply(lambda x: x.replace('-', ' '))\n",
    "merged['anchor'] = merged['anchor'].str.replace(r'\\([^)]*\\)', '', regex=True)\n",
    "merged = merged[~merged['anchor'].str.contains(r'\\d+')]"
   ]
  },
  {
   "cell_type": "code",
   "execution_count": null,
   "id": "IhgfzZEX1_5H",
   "metadata": {
    "colab": {
     "base_uri": "https://localhost:8080/",
     "height": 423
    },
    "executionInfo": {
     "elapsed": 82,
     "status": "ok",
     "timestamp": 1741885041723,
     "user": {
      "displayName": "AlexFazio64",
      "userId": "13170977382416213410"
     },
     "user_tz": -60
    },
    "id": "IhgfzZEX1_5H",
    "outputId": "5f729198-3878-4ddf-e7b3-a1e466b3ffe4"
   },
   "outputs": [],
   "source": [
    "merged = merged.drop_duplicates(subset=['anchor'])\n",
    "merged = merged.sort_values('anchor')\n",
    "merged"
   ]
  },
  {
   "cell_type": "markdown",
   "id": "bV5Omvt5cKEA",
   "metadata": {
    "id": "bV5Omvt5cKEA"
   },
   "source": [
    "find examples that are probably names"
   ]
  },
  {
   "cell_type": "code",
   "execution_count": null,
   "id": "znL_IU6tt4MR",
   "metadata": {
    "colab": {
     "base_uri": "https://localhost:8080/",
     "height": 423
    },
    "executionInfo": {
     "elapsed": 121,
     "status": "ok",
     "timestamp": 1741885067457,
     "user": {
      "displayName": "AlexFazio64",
      "userId": "13170977382416213410"
     },
     "user_tz": -60
    },
    "id": "znL_IU6tt4MR",
    "outputId": "d39b5354-6541-412e-ed6c-11628ce1f2b5"
   },
   "outputs": [],
   "source": [
    "two_words = cleaned[cleaned['anchor'].apply(lambda x: len(x.split()) == 2)]\n",
    "two_words"
   ]
  },
  {
   "cell_type": "markdown",
   "id": "MtXuDa3ocOsd",
   "metadata": {
    "id": "MtXuDa3ocOsd"
   },
   "source": [
    "switch order of words"
   ]
  },
  {
   "cell_type": "code",
   "execution_count": null,
   "id": "93bad3f6",
   "metadata": {},
   "outputs": [],
   "source": [
    "two_words.loc[two_words.index, \"original\"] = two_words.loc[two_words.index,\"anchor\"]\n",
    "two_words"
   ]
  },
  {
   "cell_type": "code",
   "execution_count": null,
   "id": "2e9b0d2e",
   "metadata": {},
   "outputs": [],
   "source": [
    "# drop values of 'negative' column\n",
    "two_words = two_words.drop(columns=['negative'])\n",
    "two_words"
   ]
  },
  {
   "cell_type": "code",
   "execution_count": null,
   "id": "joDVcGPpbmZV",
   "metadata": {
    "colab": {
     "base_uri": "https://localhost:8080/",
     "height": 423
    },
    "executionInfo": {
     "elapsed": 100,
     "status": "ok",
     "timestamp": 1741885084338,
     "user": {
      "displayName": "AlexFazio64",
      "userId": "13170977382416213410"
     },
     "user_tz": -60
    },
    "id": "joDVcGPpbmZV",
    "outputId": "1729222a-a993-4a1f-f93e-95a24246e6c3"
   },
   "outputs": [],
   "source": [
    "two_words_switched = two_words.copy()\n",
    "two_words_switched['anchor'] = two_words_switched['anchor'].str.split().apply(lambda x: ' '.join(x[::-1]))\n",
    "two_words_switched"
   ]
  },
  {
   "cell_type": "code",
   "execution_count": null,
   "id": "f76f718f",
   "metadata": {},
   "outputs": [],
   "source": [
    "two_words_drop_first = two_words.copy()\n",
    "two_words_drop_first['anchor'] = two_words_drop_first['anchor'].str.split().apply(lambda x: ' '.join(x[1:]))\n",
    "two_words_drop_first"
   ]
  },
  {
   "cell_type": "code",
   "execution_count": null,
   "id": "d4faa15f",
   "metadata": {},
   "outputs": [],
   "source": [
    "two_words_drop_second = two_words.copy()\n",
    "two_words_drop_second['anchor'] = two_words_drop_second['anchor'].str.split().apply(lambda x: ' '.join(x[:-1]))\n",
    "two_words_drop_second"
   ]
  },
  {
   "cell_type": "code",
   "execution_count": null,
   "id": "S5H1nbRub_zN",
   "metadata": {
    "colab": {
     "base_uri": "https://localhost:8080/",
     "height": 423
    },
    "executionInfo": {
     "elapsed": 95,
     "status": "ok",
     "timestamp": 1741885138658,
     "user": {
      "displayName": "AlexFazio64",
      "userId": "13170977382416213410"
     },
     "user_tz": -60
    },
    "id": "S5H1nbRub_zN",
    "outputId": "216374b8-7fbe-4ecf-e4c0-5ed794e20875"
   },
   "outputs": [],
   "source": [
    "two_words_augmented = pd.concat([two_words, two_words_switched, two_words_drop_first, two_words_drop_second])\n",
    "two_words_augmented = two_words_augmented.reset_index(drop=True)\n",
    "two_words_augmented"
   ]
  },
  {
   "cell_type": "code",
   "execution_count": null,
   "id": "d42cbe8b",
   "metadata": {},
   "outputs": [],
   "source": [
    "two_words_augmented.duplicated(subset=['anchor', \"positive\"]).sum()"
   ]
  },
  {
   "cell_type": "code",
   "execution_count": null,
   "id": "7fa8f5ba",
   "metadata": {},
   "outputs": [],
   "source": [
    "two_words_augmented.to_json(\"---\", orient=\"records\")"
   ]
  },
  {
   "cell_type": "markdown",
   "id": "aOjqKq6ycjgQ",
   "metadata": {
    "id": "aOjqKq6ycjgQ"
   },
   "source": [
    "merge with other oversampled examples"
   ]
  },
  {
   "cell_type": "code",
   "execution_count": null,
   "id": "a448fe1c",
   "metadata": {},
   "outputs": [],
   "source": [
    "two_words_augmented = pd.read_json(\"---\")\n",
    "two_words_augmented"
   ]
  },
  {
   "cell_type": "code",
   "execution_count": null,
   "id": "s8HMAUHqfnnw",
   "metadata": {
    "colab": {
     "base_uri": "https://localhost:8080/",
     "height": 423
    },
    "executionInfo": {
     "elapsed": 101,
     "status": "ok",
     "timestamp": 1741885175776,
     "user": {
      "displayName": "AlexFazio64",
      "userId": "13170977382416213410"
     },
     "user_tz": -60
    },
    "id": "s8HMAUHqfnnw",
    "outputId": "ef7bc599-6deb-45a2-c5fa-f9a38cf96871"
   },
   "outputs": [],
   "source": [
    "merged = pd.concat([merged, two_words_augmented])\n",
    "merged = merged.reset_index(drop=True)\n",
    "merged"
   ]
  },
  {
   "cell_type": "code",
   "execution_count": null,
   "id": "c_XGgnqxgdcO",
   "metadata": {
    "colab": {
     "base_uri": "https://localhost:8080/",
     "height": 990
    },
    "executionInfo": {
     "elapsed": 143,
     "status": "ok",
     "timestamp": 1741885218890,
     "user": {
      "displayName": "AlexFazio64",
      "userId": "13170977382416213410"
     },
     "user_tz": -60
    },
    "id": "c_XGgnqxgdcO",
    "outputId": "2d2a7c5c-0251-4919-ad11-4fdc9ece845c"
   },
   "outputs": [],
   "source": [
    "merged.sort_values('anchor').sample(30)"
   ]
  },
  {
   "cell_type": "code",
   "execution_count": null,
   "id": "SWShobs3hEH8",
   "metadata": {
    "colab": {
     "base_uri": "https://localhost:8080/",
     "height": 423
    },
    "executionInfo": {
     "elapsed": 245,
     "status": "ok",
     "timestamp": 1741887128536,
     "user": {
      "displayName": "AlexFazio64",
      "userId": "13170977382416213410"
     },
     "user_tz": -60
    },
    "id": "SWShobs3hEH8",
    "outputId": "a2208ff4-48b5-4888-daf7-df18f84fbf62"
   },
   "outputs": [],
   "source": [
    "# merge with cleaned\n",
    "augmented = pd.concat([merged])\n",
    "augmented = augmented.reset_index(drop=True)\n",
    "augmented"
   ]
  },
  {
   "cell_type": "code",
   "execution_count": null,
   "id": "Az_0AcDmdPW5",
   "metadata": {
    "colab": {
     "base_uri": "https://localhost:8080/",
     "height": 423
    },
    "executionInfo": {
     "elapsed": 20,
     "status": "ok",
     "timestamp": 1741887165384,
     "user": {
      "displayName": "AlexFazio64",
      "userId": "13170977382416213410"
     },
     "user_tz": -60
    },
    "id": "Az_0AcDmdPW5",
    "outputId": "e5c1f52f-0a36-4e89-8ca2-cbf2ac08f32b"
   },
   "outputs": [],
   "source": [
    "# introduce typos in the anchor\n",
    "typos = pd.concat([augmented])\n",
    "typos['anchor'] = typos['anchor'].apply(introduce_typo)\n",
    "typos"
   ]
  },
  {
   "cell_type": "code",
   "execution_count": null,
   "id": "-sDNqj_RglPc",
   "metadata": {
    "colab": {
     "base_uri": "https://localhost:8080/",
     "height": 423
    },
    "executionInfo": {
     "elapsed": 120,
     "status": "ok",
     "timestamp": 1741887195211,
     "user": {
      "displayName": "AlexFazio64",
      "userId": "13170977382416213410"
     },
     "user_tz": -60
    },
    "id": "-sDNqj_RglPc",
    "outputId": "c01586e7-b73d-427a-ad3e-b1e27cdb76c1"
   },
   "outputs": [],
   "source": [
    "augmented = pd.concat([typos])\n",
    "augmented = augmented.reset_index(drop=True)\n",
    "augmented"
   ]
  },
  {
   "cell_type": "code",
   "execution_count": null,
   "id": "kXNAqlBfdF-G",
   "metadata": {
    "id": "kXNAqlBfdF-G"
   },
   "outputs": [],
   "source": [
    "# save json to drive\n",
    "augmented.to_json(\"---\", orient=\"records\")"
   ]
  },
  {
   "cell_type": "code",
   "execution_count": null,
   "id": "4cee7b66",
   "metadata": {},
   "outputs": [],
   "source": [
    "# save json to drive\n",
    "augmented.to_json(\"---\", orient=\"records\")"
   ]
  },
  {
   "cell_type": "markdown",
   "id": "XqqvDW-ok1mJ",
   "metadata": {
    "id": "XqqvDW-ok1mJ"
   },
   "source": [
    "# Training"
   ]
  },
  {
   "cell_type": "code",
   "execution_count": null,
   "id": "lpk6Pw1ojMsM",
   "metadata": {
    "colab": {
     "base_uri": "https://localhost:8080/"
    },
    "executionInfo": {
     "elapsed": 25081,
     "status": "ok",
     "timestamp": 1741961951421,
     "user": {
      "displayName": "AlexFazio64",
      "userId": "13170977382416213410"
     },
     "user_tz": -60
    },
    "id": "lpk6Pw1ojMsM",
    "outputId": "4bbecc63-6ce1-453d-9dca-bbf998cdd840"
   },
   "outputs": [],
   "source": [
    "from google.colab import drive\n",
    "import pandas as pd\n",
    "drive.mount('/content/drive')\n",
    "\n",
    "augmented = pd.read_json(\"---\")\n",
    "cleaned = pd.read_json(\"---\")\n",
    "\n",
    "data = pd.concat([cleaned, augmented])\n",
    "data = data.reset_index(drop=True)"
   ]
  },
  {
   "cell_type": "code",
   "execution_count": null,
   "id": "e95e2100",
   "metadata": {},
   "outputs": [],
   "source": [
    "import pandas as pd\n",
    "\n",
    "augmented = pd.read_json(\"---\")\n",
    "cleaned = pd.read_json(\"---\")\n",
    "\n",
    "data = pd.concat([cleaned, augmented])\n",
    "data = data.reset_index(drop=True)"
   ]
  },
  {
   "cell_type": "code",
   "execution_count": null,
   "id": "J3N3x4JXjiEC",
   "metadata": {
    "colab": {
     "base_uri": "https://localhost:8080/",
     "height": 300
    },
    "executionInfo": {
     "elapsed": 84,
     "status": "ok",
     "timestamp": 1741961951531,
     "user": {
      "displayName": "AlexFazio64",
      "userId": "13170977382416213410"
     },
     "user_tz": -60
    },
    "id": "J3N3x4JXjiEC",
    "outputId": "31b1bc45-728a-4071-d5a4-7cbf274a5cbc"
   },
   "outputs": [],
   "source": [
    "data[data.duplicated()]"
   ]
  },
  {
   "cell_type": "code",
   "execution_count": null,
   "id": "8U-_RdK1keOQ",
   "metadata": {
    "colab": {
     "base_uri": "https://localhost:8080/",
     "height": 423
    },
    "executionInfo": {
     "elapsed": 176,
     "status": "ok",
     "timestamp": 1741961951710,
     "user": {
      "displayName": "AlexFazio64",
      "userId": "13170977382416213410"
     },
     "user_tz": -60
    },
    "id": "8U-_RdK1keOQ",
    "outputId": "d774774d-4cec-4750-9734-3451cfe05a7e"
   },
   "outputs": [],
   "source": [
    "data.drop_duplicates(inplace=True)\n",
    "data"
   ]
  },
  {
   "cell_type": "code",
   "execution_count": null,
   "id": "g_DV4Fo-vwkP",
   "metadata": {
    "executionInfo": {
     "elapsed": 56,
     "status": "ok",
     "timestamp": 1741961951768,
     "user": {
      "displayName": "AlexFazio64",
      "userId": "13170977382416213410"
     },
     "user_tz": -60
    },
    "id": "g_DV4Fo-vwkP"
   },
   "outputs": [],
   "source": [
    "# lowercase everything\n",
    "data['anchor'] = data['anchor'].str.lower()\n",
    "data['positive'] = data['positive'].str.lower()\n",
    "data['negative'] = data['negative'].str.lower()"
   ]
  },
  {
   "cell_type": "code",
   "execution_count": null,
   "id": "cd03dbc7",
   "metadata": {},
   "outputs": [],
   "source": [
    "data.to_json(\"---\", orient=\"records\")"
   ]
  },
  {
   "cell_type": "code",
   "execution_count": null,
   "id": "f127a0e7",
   "metadata": {},
   "outputs": [],
   "source": [
    "import pandas as pd\n",
    "\n",
    "data = pd.read_json(\"---\")"
   ]
  },
  {
   "cell_type": "code",
   "execution_count": null,
   "id": "6pKDCtC2iRb5",
   "metadata": {
    "colab": {
     "base_uri": "https://localhost:8080/"
    },
    "executionInfo": {
     "elapsed": 2356,
     "status": "ok",
     "timestamp": 1741961954126,
     "user": {
      "displayName": "AlexFazio64",
      "userId": "13170977382416213410"
     },
     "user_tz": -60
    },
    "id": "6pKDCtC2iRb5",
    "outputId": "ae4c2ae0-bd58-4b65-c4c3-6804c9789110"
   },
   "outputs": [],
   "source": [
    "from sklearn.model_selection import train_test_split\n",
    "\n",
    "def load_and_split(data, validation_size=0.2, random_state=42):\n",
    "    \"\"\"\n",
    "    Loads triplet data from JSON files using pandas, splits it into training and validation sets.\n",
    "\n",
    "    Args:\n",
    "        json_file_paths (list): List of paths to JSON files.\n",
    "        validation_size (float): Proportion of data to use for validation.\n",
    "        random_state (int): Random state for reproducible splitting.\n",
    "\n",
    "    Returns:\n",
    "        tuple: (train_triplets, val_triplets)\n",
    "    \"\"\"\n",
    "\n",
    "    combined_df = pd.concat([data], ignore_index=True)\n",
    "\n",
    "    train_df, val_df = train_test_split(combined_df, test_size=validation_size, random_state=random_state)\n",
    "\n",
    "    def create_triplets_from_dataframe(df):\n",
    "        anchors = df['anchor'].tolist()\n",
    "        positives = df['positive'].tolist()\n",
    "        negatives = df['negative'].tolist()\n",
    "        return anchors, positives, negatives\n",
    "\n",
    "    train_triplets = create_triplets_from_dataframe(train_df)\n",
    "    val_triplets = create_triplets_from_dataframe(val_df)\n",
    "\n",
    "    return train_triplets, val_triplets\n",
    "\n",
    "train_triplets, val_triplets = load_and_split(data)\n",
    "\n",
    "train_anchors, train_positives, train_negatives = train_triplets\n",
    "val_anchors, val_positives, val_negatives = val_triplets\n",
    "\n",
    "print(f\"Number of training triplets: {len(train_anchors)}\")\n",
    "print(f\"Number of validation triplets: {len(val_anchors)}\")\n",
    "\n",
    "print(train_anchors[0])\n",
    "print(train_positives[0])\n",
    "print(train_negatives[0])"
   ]
  },
  {
   "cell_type": "code",
   "execution_count": null,
   "id": "EphckuHSl9JE",
   "metadata": {
    "colab": {
     "base_uri": "https://localhost:8080/"
    },
    "collapsed": true,
    "executionInfo": {
     "elapsed": 6570,
     "status": "ok",
     "timestamp": 1741961960699,
     "user": {
      "displayName": "AlexFazio64",
      "userId": "13170977382416213410"
     },
     "user_tz": -60
    },
    "id": "EphckuHSl9JE",
    "outputId": "650748ff-717a-4281-cc62-1aab288143a3"
   },
   "outputs": [],
   "source": [
    "%pip install scikit-learn sentence-transformers torch datasets wandb einops"
   ]
  },
  {
   "cell_type": "code",
   "execution_count": null,
   "id": "6424de58",
   "metadata": {},
   "outputs": [],
   "source": [
    "import wandb\n",
    "from sentence_transformers import SentenceTransformer, losses, InputExample, util\n",
    "from torch.utils.data import DataLoader\n",
    "import torch\n",
    "from datasets import Dataset\n",
    "import os\n",
    "\n",
    "wandb.login()"
   ]
  },
  {
   "cell_type": "code",
   "execution_count": null,
   "id": "61669681",
   "metadata": {},
   "outputs": [],
   "source": [
    "def evaluate_triplets(model, anchors, positives, negatives):\n",
    "    \"\"\"Evaluates triplet data. Prints the mean cosine similarity of the positive and negative pairs.\"\"\"\n",
    "    positive_similarities = []\n",
    "    negative_similarities = []\n",
    "\n",
    "    for anchor, positive, negative in zip(anchors, positives, negatives):\n",
    "        anchor_emb = model.encode(anchor)\n",
    "        positive_emb = model.encode(positive)\n",
    "        negative_emb = model.encode(negative)\n",
    "\n",
    "        positive_similarities.append(util.cos_sim(anchor_emb, positive_emb).item())\n",
    "        negative_similarities.append(util.cos_sim(anchor_emb, negative_emb).item())\n",
    "\n",
    "    print(f\"Mean positive similarity: {sum(positive_similarities) / len(positive_similarities)}\")\n",
    "    print(f\"Mean negative similarity: {sum(negative_similarities) / len(negative_similarities)}\")\n",
    "\n",
    "def finetune_triplet_model_old(model_name, train_triplets, val_triplets=None,\n",
    "                           epochs=1, batch_size=16, save_path='fine-tuned-triplet-model'):\n",
    "    \"\"\"\n",
    "    Args:\n",
    "        model_name (str): Name of the pre-trained model.\n",
    "        train_triplets (tuple): Tuple of (anchors, positives, negatives) for training.\n",
    "        val_triplets (tuple, optional): Tuple of (anchors, positives, negatives) for validation.\n",
    "        epochs (int): Number of training epochs.\n",
    "        batch_size (int): Batch size for training.\n",
    "        save_path (str): Path to save the fine-tuned model.\n",
    "    \"\"\"\n",
    "\n",
    "    model = SentenceTransformer(model_name)\n",
    "    train_anchors, train_positives, train_negatives = train_triplets\n",
    "\n",
    "    train_data = list(zip(train_anchors, train_positives, train_negatives))\n",
    "    train_examples = [InputExample(texts=list(triplet)) for triplet in train_data]\n",
    "\n",
    "    train_dataloader = DataLoader(train_examples, shuffle=True, batch_size=batch_size)\n",
    "    train_loss = losses.TripletLoss(model=model)\n",
    "    \n",
    "    model.fit(\n",
    "        train_objectives=[(train_dataloader, train_loss)],\n",
    "        epochs=epochs,\n",
    "        warmup_steps=len(train_dataloader) // 10,  # 10% of data for warm-up\n",
    "        )\n",
    "\n",
    "    model.save(save_path)\n",
    "    print(f\"Fine-tuned model saved to {save_path}\")\n",
    "\n",
    "    if val_triplets:\n",
    "        val_anchors, val_positives, val_negatives = val_triplets\n",
    "        evaluate_triplets(model, val_anchors, val_positives, val_negatives)"
   ]
  },
  {
   "cell_type": "code",
   "execution_count": null,
   "id": "dad44f98",
   "metadata": {},
   "outputs": [],
   "source": [
    "def evaluate_triplets(model, anchors, positives, negatives):\n",
    "    \"\"\"Evaluates triplet data. Prints the mean cosine similarity of the positive and negative pairs.\"\"\"\n",
    "    positive_similarities = []\n",
    "    negative_similarities = []\n",
    "\n",
    "    for anchor, positive, negative in zip(anchors, positives, negatives):\n",
    "        anchor_emb = model.encode(anchor)\n",
    "        positive_emb = model.encode(positive)\n",
    "        negative_emb = model.encode(negative)\n",
    "\n",
    "        positive_similarities.append(util.cos_sim(anchor_emb, positive_emb).item())\n",
    "        negative_similarities.append(util.cos_sim(anchor_emb, negative_emb).item())\n",
    "\n",
    "    print(f\"Mean positive similarity: {sum(positive_similarities) / len(positive_similarities)}\")\n",
    "    print(f\"Mean negative similarity: {sum(negative_similarities) / len(negative_similarities)}\")\n",
    "\n",
    "def finetune_triplet_model(model_name, train_triplets, val_triplets=None,\n",
    "                           epochs=1, batch_size=16, save_path='fine-tuned'):\n",
    "    \"\"\"\n",
    "    Args:\n",
    "        model_name (str): Name of the pre-trained model.\n",
    "        train_triplets (tuple): Tuple of (anchors, positives, negatives) for training.\n",
    "        val_triplets (tuple, optional): Tuple of (anchors, positives, negatives) for validation.\n",
    "        epochs (int): Number of training epochs.\n",
    "        batch_size (int): Batch size for training.\n",
    "        save_path (str): Path to save the fine-tuned model.\n",
    "    \"\"\"\n",
    "\n",
    "    # Determine the starting epoch\n",
    "    start_epoch = 0\n",
    "    if os.path.exists(save_path):\n",
    "        # Check for existing checkpoints\n",
    "        checkpoint_files = [f for f in os.listdir(save_path) if f.startswith('checkpoint_epoch_')]\n",
    "        if checkpoint_files:\n",
    "            # Extract epoch numbers and find the latest\n",
    "            epoch_numbers = [int(f.split('_')[-1]) for f in checkpoint_files]\n",
    "            start_epoch = max(epoch_numbers)\n",
    "            print(f\"Resuming training from epoch {start_epoch + 1}\")\n",
    "    \n",
    "    model = SentenceTransformer(save_path if start_epoch > 0 else model_name)\n",
    "    model.to('cuda')\n",
    "    train_anchors, train_positives, train_negatives = train_triplets\n",
    "\n",
    "    train_data = list(zip(train_anchors, train_positives, train_negatives))\n",
    "    train_examples = [InputExample(texts=list(triplet)) for triplet in train_data]\n",
    "\n",
    "    train_dataloader = DataLoader(train_examples, shuffle=True, batch_size=batch_size)\n",
    "    train_loss = losses.TripletLoss(model=model)\n",
    "    \n",
    "    for epoch in range(start_epoch, epochs):\n",
    "        model.fit(\n",
    "            train_objectives=[(train_dataloader, train_loss)],\n",
    "            epochs=1,  # Train for only 1 epoch at a time\n",
    "            warmup_steps=len(train_dataloader) // 10,  # 10% of data for warm-up\n",
    "        )\n",
    "\n",
    "        # Save checkpoint after each epoch\n",
    "        checkpoint_path = os.path.join(save_path, f'checkpoint_epoch_{epoch + 1}')\n",
    "        model.save(checkpoint_path)\n",
    "        print(f\"Checkpoint saved to {checkpoint_path}\")\n",
    "\n",
    "    # Save the final model\n",
    "    model.save(save_path)\n",
    "    print(f\"Fine-tuned model saved to {save_path}\")\n",
    "\n",
    "    if val_triplets:\n",
    "        val_anchors, val_positives, val_negatives = val_triplets\n",
    "        evaluate_triplets(model, val_anchors, val_positives, val_negatives)"
   ]
  },
  {
   "cell_type": "code",
   "execution_count": null,
   "id": "175Js3UqmPVT",
   "metadata": {
    "colab": {
     "base_uri": "https://localhost:8080/",
     "height": 75,
     "referenced_widgets": [
      "89202348957a4d3f9507484722d10cc1",
      "9e7928e365654db887f6a857bf32c7a6",
      "c171de4dd7bf4058a0ae092b69dc456d",
      "ff6fbdd650dc4f14a053d89300a8e183",
      "47d29eb85f6e44d7b07df155d9c926d2",
      "49ccde03a3154cdfafc40e6d061b1f13",
      "776cb868013c4359bbce5ba04e1c2bc0",
      "46a3534415e54249a7d769f1fc93b044",
      "06535e66fd6d4c5999a1ba51470c5bfc",
      "bee4825951cd429f81e6d96d3fe4a690",
      "1d4ecae7ec2d4e838ad9d6cabe9b06b3"
     ]
    },
    "id": "175Js3UqmPVT",
    "outputId": "f0b31b77-9eb0-4f0e-c42e-147adca23c17"
   },
   "outputs": [],
   "source": [
    "finetune_triplet_model('all-MiniLM-L6-v2', train_triplets, val_triplets, epochs=4, batch_size=8, save_path='all-MiniLM-L6-v2')\n",
    "\n",
    "loaded_model = SentenceTransformer('all-MiniLM-L6-v2/checkpoint_epoch_4/')\n",
    "embeddings = loaded_model.encode([\"Koyomi Araragi\", \"Araragi\"])\n",
    "print(embeddings)"
   ]
  },
  {
   "cell_type": "code",
   "execution_count": null,
   "id": "b9a06c52",
   "metadata": {},
   "outputs": [],
   "source": [
    "# find the cosine similarity between two sentences\n",
    "def cosine_similarity(model, sentence1, sentence2):\n",
    "    embeddings = model.encode([sentence1, sentence2])\n",
    "    return util.cos_sim(embeddings[0], embeddings[1])"
   ]
  },
  {
   "cell_type": "code",
   "execution_count": null,
   "id": "d7d64554",
   "metadata": {},
   "outputs": [],
   "source": [
    "miniLM = SentenceTransformer(\"sentence-transformers/all-MiniLM-L6-v2\", trust_remote_code=True, device=\"cuda\")\n",
    "evaluate_triplets(miniLM, val_anchors, val_positives, val_negatives)"
   ]
  },
  {
   "cell_type": "code",
   "execution_count": null,
   "id": "2d73c243",
   "metadata": {},
   "outputs": [],
   "source": [
    "finetuned_miniLM = SentenceTransformer(\"all-MiniLM-L6-v2/checkpoint_epoch_4/\", device=\"cuda\")\n",
    "evaluate_triplets(finetuned_miniLM, val_anchors, val_positives, val_negatives)"
   ]
  },
  {
   "cell_type": "code",
   "execution_count": null,
   "id": "f3e266cf",
   "metadata": {},
   "outputs": [],
   "source": [
    "mpnet = SentenceTransformer(\"sentence-transformers/all-mpnet-base-v2\", trust_remote_code=True, device=\"cuda\")\n",
    "evaluate_triplets(mpnet, val_anchors, val_positives, val_negatives)"
   ]
  },
  {
   "cell_type": "code",
   "execution_count": null,
   "id": "9e054e6b",
   "metadata": {},
   "outputs": [],
   "source": [
    "finetune_triplet_model('all-mpnet-base-v2', train_triplets, val_triplets, epochs=4, batch_size=2, save_path='all-mpnet-base-v2')"
   ]
  },
  {
   "cell_type": "code",
   "execution_count": null,
   "id": "a44ee934",
   "metadata": {},
   "outputs": [],
   "source": [
    "finetuned_mpnet = SentenceTransformer(\"all-mpnet-base-v2/checkpoint_epoch_4\", device=\"cuda\")\n",
    "evaluate_triplets(finetuned_mpnet, val_anchors, val_positives, val_negatives)"
   ]
  },
  {
   "cell_type": "code",
   "execution_count": null,
   "id": "f25a7d9f",
   "metadata": {},
   "outputs": [],
   "source": [
    "cosine_similarity(finetuned_mpnet, \"Koyomi Araragi\", \"Araragi\")"
   ]
  },
  {
   "cell_type": "code",
   "execution_count": null,
   "id": "16f339c0",
   "metadata": {},
   "outputs": [],
   "source": [
    "cosine_similarity(finetuned_mpnet, \"Araragi Matriarch\", \"Araragi\")"
   ]
  },
  {
   "cell_type": "code",
   "execution_count": null,
   "id": "7b0dbdd2",
   "metadata": {},
   "outputs": [],
   "source": [
    "cosine_similarity(finetuned_miniLM, \"Koyomi Araragi\", \"Araragi\")"
   ]
  },
  {
   "cell_type": "code",
   "execution_count": null,
   "id": "239cd6e4",
   "metadata": {},
   "outputs": [],
   "source": [
    "cosine_similarity(finetuned_miniLM, \"Araragi Karen\", \"Araragi\")"
   ]
  },
  {
   "cell_type": "code",
   "execution_count": null,
   "id": "b23476eb",
   "metadata": {},
   "outputs": [],
   "source": [
    "vec = finetuned_mpnet.encode(\"Koyomi Araragi\")"
   ]
  },
  {
   "cell_type": "code",
   "execution_count": null,
   "id": "636b5d0d",
   "metadata": {},
   "outputs": [],
   "source": [
    "import requests\n",
    "\n",
    "payload = {\n",
    "  'id': \"Koyomi Araragi\",\n",
    "  'vec': vec.tolist()\n",
    "}\n",
    "\n",
    "# response = requests.post('http://localhost:5173/api/db', json=payload)"
   ]
  },
  {
   "cell_type": "code",
   "execution_count": null,
   "id": "36ab6e60",
   "metadata": {},
   "outputs": [],
   "source": [
    "keys = requests.get('http://localhost:5173/api/data/all')\n",
    "keys.json()"
   ]
  },
  {
   "cell_type": "code",
   "execution_count": null,
   "id": "b24b7419",
   "metadata": {},
   "outputs": [],
   "source": [
    "for key in keys.json():\n",
    "    vec = finetuned_mpnet.encode(key).tolist()\n",
    "    response = requests.post('http://localhost:5173/api/db', json={'id': key, 'vec': vec})\n",
    "    print(f'key: {key}, response: {response.text}')"
   ]
  },
  {
   "cell_type": "code",
   "execution_count": null,
   "id": "4ea58edb",
   "metadata": {},
   "outputs": [],
   "source": [
    "for key in keys.json():\n",
    "    vec = finetuned_mpnet.encode(key).tolist()\n",
    "    response = requests.post('http://localhost:5173/api/db/query', json={'vec': vec, 'threshold': 0.8})\n",
    "    print(f'key: {key}, response: {response.json()}', end='\\n\\n')"
   ]
  },
  {
   "cell_type": "code",
   "execution_count": null,
   "id": "3bf272d2",
   "metadata": {},
   "outputs": [],
   "source": [
    "vec = finetuned_mpnet.encode(f\"Koyomi seems to assume that something worse is hidden in the darkness\").tolist()\n",
    "response = requests.post('http://localhost:5173/api/db/query', json={'vec': vec, 'threshold': 0.8})\n",
    "print(response.json())"
   ]
  },
  {
   "cell_type": "code",
   "execution_count": null,
   "id": "706dd132",
   "metadata": {},
   "outputs": [],
   "source": [
    "list(response.json())"
   ]
  },
  {
   "cell_type": "code",
   "execution_count": null,
   "id": "45409b5e",
   "metadata": {},
   "outputs": [],
   "source": [
    "import pandas as pd\n",
    "\n",
    "similarities = pd.read_json(\"---\")\n",
    "similarities"
   ]
  },
  {
   "cell_type": "code",
   "execution_count": null,
   "id": "a9d0cdcd",
   "metadata": {},
   "outputs": [],
   "source": [
    "similarities.sample(10).to_dict(orient='records')"
   ]
  },
  {
   "cell_type": "code",
   "execution_count": null,
   "id": "7f98d1dd",
   "metadata": {},
   "outputs": [],
   "source": [
    "from sentence_transformers import SentenceTransformer, InputExample, evaluation, losses\n",
    "from torch.utils.data import DataLoader\n",
    "\n",
    "# 1. Load and prepare data\n",
    "data = similarities.to_dict(orient='records')\n",
    "\n",
    "eval_examples = [InputExample(texts=[item['id1'], item['id2']], label=item['score']) for item in data]\n",
    "\n",
    "# 2. Create evaluator\n",
    "evaluator = evaluation.EmbeddingSimilarityEvaluator.from_input_examples(eval_examples, name='similarity-eval')\n",
    "\n",
    "# 3. Create Model\n",
    "model = SentenceTransformer('all-MiniLM-L6-v2/checkpoint_epoch_4/', device='cuda')\n",
    "\n",
    "# 4. Create Loss Function\n",
    "train_loss = losses.CosineSimilarityLoss(model)\n",
    "\n",
    "# 5. Create DataLoader\n",
    "train_dataloader = DataLoader(eval_examples, shuffle=True, batch_size=8)\n",
    "\n",
    "# 6. Train Model\n",
    "model.fit(\n",
    "    train_objectives=[(train_dataloader, train_loss)],\n",
    "    epochs=3,\n",
    "    warmup_steps=100,\n",
    "    evaluator=evaluator,\n",
    "    evaluation_steps=1000\n",
    ")\n",
    "\n",
    "model.save(\"similarity-model_all-MiniLM-L6-v2\")\n",
    "\n",
    "# Example of using the model\n",
    "embeddings = model.encode([\"Nisemonogatari\", \"Rainy Devil\"])\n",
    "print(embeddings)"
   ]
  }
 ],
 "metadata": {
  "accelerator": "TPU",
  "colab": {
   "collapsed_sections": [
    "irTuvGD6QKdl",
    "L7ttWoBLQTE4",
    "Tl4AGWToP6ff",
    "FD4nFLKQyHH4"
   ],
   "gpuType": "V28",
   "provenance": [
    {
     "file_id": "https://github.com/run-llama/llama_index/blob/main/docs/docs/examples/finetuning/embeddings/finetune_embedding.ipynb",
     "timestamp": 1741286976166
    }
   ]
  },
  "kernelspec": {
   "display_name": "Python 3",
   "name": "python3"
  },
  "language_info": {
   "codemirror_mode": {
    "name": "ipython",
    "version": 3
   },
   "file_extension": ".py",
   "mimetype": "text/x-python",
   "name": "python",
   "nbconvert_exporter": "python",
   "pygments_lexer": "ipython3",
   "version": "3.12.9"
  },
  "widgets": {
   "application/vnd.jupyter.widget-state+json": {
    "06535e66fd6d4c5999a1ba51470c5bfc": {
     "model_module": "@jupyter-widgets/controls",
     "model_module_version": "1.5.0",
     "model_name": "ProgressStyleModel",
     "state": {
      "_model_module": "@jupyter-widgets/controls",
      "_model_module_version": "1.5.0",
      "_model_name": "ProgressStyleModel",
      "_view_count": null,
      "_view_module": "@jupyter-widgets/base",
      "_view_module_version": "1.2.0",
      "_view_name": "StyleView",
      "bar_color": null,
      "description_width": ""
     }
    },
    "1d4ecae7ec2d4e838ad9d6cabe9b06b3": {
     "model_module": "@jupyter-widgets/controls",
     "model_module_version": "1.5.0",
     "model_name": "DescriptionStyleModel",
     "state": {
      "_model_module": "@jupyter-widgets/controls",
      "_model_module_version": "1.5.0",
      "_model_name": "DescriptionStyleModel",
      "_view_count": null,
      "_view_module": "@jupyter-widgets/base",
      "_view_module_version": "1.2.0",
      "_view_name": "StyleView",
      "description_width": ""
     }
    },
    "46a3534415e54249a7d769f1fc93b044": {
     "model_module": "@jupyter-widgets/base",
     "model_module_version": "1.2.0",
     "model_name": "LayoutModel",
     "state": {
      "_model_module": "@jupyter-widgets/base",
      "_model_module_version": "1.2.0",
      "_model_name": "LayoutModel",
      "_view_count": null,
      "_view_module": "@jupyter-widgets/base",
      "_view_module_version": "1.2.0",
      "_view_name": "LayoutView",
      "align_content": null,
      "align_items": null,
      "align_self": null,
      "border": null,
      "bottom": null,
      "display": null,
      "flex": null,
      "flex_flow": null,
      "grid_area": null,
      "grid_auto_columns": null,
      "grid_auto_flow": null,
      "grid_auto_rows": null,
      "grid_column": null,
      "grid_gap": null,
      "grid_row": null,
      "grid_template_areas": null,
      "grid_template_columns": null,
      "grid_template_rows": null,
      "height": null,
      "justify_content": null,
      "justify_items": null,
      "left": null,
      "margin": null,
      "max_height": null,
      "max_width": null,
      "min_height": null,
      "min_width": null,
      "object_fit": null,
      "object_position": null,
      "order": null,
      "overflow": null,
      "overflow_x": null,
      "overflow_y": null,
      "padding": null,
      "right": null,
      "top": null,
      "visibility": null,
      "width": null
     }
    },
    "47d29eb85f6e44d7b07df155d9c926d2": {
     "model_module": "@jupyter-widgets/base",
     "model_module_version": "1.2.0",
     "model_name": "LayoutModel",
     "state": {
      "_model_module": "@jupyter-widgets/base",
      "_model_module_version": "1.2.0",
      "_model_name": "LayoutModel",
      "_view_count": null,
      "_view_module": "@jupyter-widgets/base",
      "_view_module_version": "1.2.0",
      "_view_name": "LayoutView",
      "align_content": null,
      "align_items": null,
      "align_self": null,
      "border": null,
      "bottom": null,
      "display": null,
      "flex": null,
      "flex_flow": null,
      "grid_area": null,
      "grid_auto_columns": null,
      "grid_auto_flow": null,
      "grid_auto_rows": null,
      "grid_column": null,
      "grid_gap": null,
      "grid_row": null,
      "grid_template_areas": null,
      "grid_template_columns": null,
      "grid_template_rows": null,
      "height": null,
      "justify_content": null,
      "justify_items": null,
      "left": null,
      "margin": null,
      "max_height": null,
      "max_width": null,
      "min_height": null,
      "min_width": null,
      "object_fit": null,
      "object_position": null,
      "order": null,
      "overflow": null,
      "overflow_x": null,
      "overflow_y": null,
      "padding": null,
      "right": null,
      "top": null,
      "visibility": "hidden",
      "width": null
     }
    },
    "49ccde03a3154cdfafc40e6d061b1f13": {
     "model_module": "@jupyter-widgets/base",
     "model_module_version": "1.2.0",
     "model_name": "LayoutModel",
     "state": {
      "_model_module": "@jupyter-widgets/base",
      "_model_module_version": "1.2.0",
      "_model_name": "LayoutModel",
      "_view_count": null,
      "_view_module": "@jupyter-widgets/base",
      "_view_module_version": "1.2.0",
      "_view_name": "LayoutView",
      "align_content": null,
      "align_items": null,
      "align_self": null,
      "border": null,
      "bottom": null,
      "display": null,
      "flex": null,
      "flex_flow": null,
      "grid_area": null,
      "grid_auto_columns": null,
      "grid_auto_flow": null,
      "grid_auto_rows": null,
      "grid_column": null,
      "grid_gap": null,
      "grid_row": null,
      "grid_template_areas": null,
      "grid_template_columns": null,
      "grid_template_rows": null,
      "height": null,
      "justify_content": null,
      "justify_items": null,
      "left": null,
      "margin": null,
      "max_height": null,
      "max_width": null,
      "min_height": null,
      "min_width": null,
      "object_fit": null,
      "object_position": null,
      "order": null,
      "overflow": null,
      "overflow_x": null,
      "overflow_y": null,
      "padding": null,
      "right": null,
      "top": null,
      "visibility": null,
      "width": null
     }
    },
    "776cb868013c4359bbce5ba04e1c2bc0": {
     "model_module": "@jupyter-widgets/controls",
     "model_module_version": "1.5.0",
     "model_name": "DescriptionStyleModel",
     "state": {
      "_model_module": "@jupyter-widgets/controls",
      "_model_module_version": "1.5.0",
      "_model_name": "DescriptionStyleModel",
      "_view_count": null,
      "_view_module": "@jupyter-widgets/base",
      "_view_module_version": "1.2.0",
      "_view_name": "StyleView",
      "description_width": ""
     }
    },
    "89202348957a4d3f9507484722d10cc1": {
     "model_module": "@jupyter-widgets/controls",
     "model_module_version": "1.5.0",
     "model_name": "HBoxModel",
     "state": {
      "_dom_classes": [],
      "_model_module": "@jupyter-widgets/controls",
      "_model_module_version": "1.5.0",
      "_model_name": "HBoxModel",
      "_view_count": null,
      "_view_module": "@jupyter-widgets/controls",
      "_view_module_version": "1.5.0",
      "_view_name": "HBoxView",
      "box_style": "",
      "children": [
       "IPY_MODEL_9e7928e365654db887f6a857bf32c7a6",
       "IPY_MODEL_c171de4dd7bf4058a0ae092b69dc456d",
       "IPY_MODEL_ff6fbdd650dc4f14a053d89300a8e183"
      ],
      "layout": "IPY_MODEL_47d29eb85f6e44d7b07df155d9c926d2"
     }
    },
    "9e7928e365654db887f6a857bf32c7a6": {
     "model_module": "@jupyter-widgets/controls",
     "model_module_version": "1.5.0",
     "model_name": "HTMLModel",
     "state": {
      "_dom_classes": [],
      "_model_module": "@jupyter-widgets/controls",
      "_model_module_version": "1.5.0",
      "_model_name": "HTMLModel",
      "_view_count": null,
      "_view_module": "@jupyter-widgets/controls",
      "_view_module_version": "1.5.0",
      "_view_name": "HTMLView",
      "description": "",
      "description_tooltip": null,
      "layout": "IPY_MODEL_49ccde03a3154cdfafc40e6d061b1f13",
      "placeholder": "​",
      "style": "IPY_MODEL_776cb868013c4359bbce5ba04e1c2bc0",
      "value": "Computing widget examples: 100%"
     }
    },
    "bee4825951cd429f81e6d96d3fe4a690": {
     "model_module": "@jupyter-widgets/base",
     "model_module_version": "1.2.0",
     "model_name": "LayoutModel",
     "state": {
      "_model_module": "@jupyter-widgets/base",
      "_model_module_version": "1.2.0",
      "_model_name": "LayoutModel",
      "_view_count": null,
      "_view_module": "@jupyter-widgets/base",
      "_view_module_version": "1.2.0",
      "_view_name": "LayoutView",
      "align_content": null,
      "align_items": null,
      "align_self": null,
      "border": null,
      "bottom": null,
      "display": null,
      "flex": null,
      "flex_flow": null,
      "grid_area": null,
      "grid_auto_columns": null,
      "grid_auto_flow": null,
      "grid_auto_rows": null,
      "grid_column": null,
      "grid_gap": null,
      "grid_row": null,
      "grid_template_areas": null,
      "grid_template_columns": null,
      "grid_template_rows": null,
      "height": null,
      "justify_content": null,
      "justify_items": null,
      "left": null,
      "margin": null,
      "max_height": null,
      "max_width": null,
      "min_height": null,
      "min_width": null,
      "object_fit": null,
      "object_position": null,
      "order": null,
      "overflow": null,
      "overflow_x": null,
      "overflow_y": null,
      "padding": null,
      "right": null,
      "top": null,
      "visibility": null,
      "width": null
     }
    },
    "c171de4dd7bf4058a0ae092b69dc456d": {
     "model_module": "@jupyter-widgets/controls",
     "model_module_version": "1.5.0",
     "model_name": "FloatProgressModel",
     "state": {
      "_dom_classes": [],
      "_model_module": "@jupyter-widgets/controls",
      "_model_module_version": "1.5.0",
      "_model_name": "FloatProgressModel",
      "_view_count": null,
      "_view_module": "@jupyter-widgets/controls",
      "_view_module_version": "1.5.0",
      "_view_name": "ProgressView",
      "bar_style": "",
      "description": "",
      "description_tooltip": null,
      "layout": "IPY_MODEL_46a3534415e54249a7d769f1fc93b044",
      "max": 1,
      "min": 0,
      "orientation": "horizontal",
      "style": "IPY_MODEL_06535e66fd6d4c5999a1ba51470c5bfc",
      "value": 1
     }
    },
    "ff6fbdd650dc4f14a053d89300a8e183": {
     "model_module": "@jupyter-widgets/controls",
     "model_module_version": "1.5.0",
     "model_name": "HTMLModel",
     "state": {
      "_dom_classes": [],
      "_model_module": "@jupyter-widgets/controls",
      "_model_module_version": "1.5.0",
      "_model_name": "HTMLModel",
      "_view_count": null,
      "_view_module": "@jupyter-widgets/controls",
      "_view_module_version": "1.5.0",
      "_view_name": "HTMLView",
      "description": "",
      "description_tooltip": null,
      "layout": "IPY_MODEL_bee4825951cd429f81e6d96d3fe4a690",
      "placeholder": "​",
      "style": "IPY_MODEL_1d4ecae7ec2d4e838ad9d6cabe9b06b3",
      "value": " 1/1 [00:00&lt;00:00,  5.22example/s]"
     }
    }
   }
  }
 },
 "nbformat": 4,
 "nbformat_minor": 5
}
