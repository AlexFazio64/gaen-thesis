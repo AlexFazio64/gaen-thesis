{
 "cells": [
  {
   "cell_type": "code",
   "execution_count": null,
   "metadata": {},
   "outputs": [],
   "source": [
    "from sentence_transformers import SentenceTransformer, util"
   ]
  },
  {
   "cell_type": "code",
   "execution_count": null,
   "metadata": {},
   "outputs": [],
   "source": [
    "model = SentenceTransformer('all-MiniLM-L6-v2/', device='cuda')"
   ]
  },
  {
   "cell_type": "code",
   "execution_count": null,
   "metadata": {},
   "outputs": [],
   "source": [
    "def cosine_similarity(model, sentence1, sentence2):\n",
    "    embeddings = model.encode([sentence1, sentence2])\n",
    "    return util.cos_sim(embeddings[0], embeddings[1])"
   ]
  },
  {
   "cell_type": "code",
   "execution_count": null,
   "metadata": {},
   "outputs": [],
   "source": [
    "print(cosine_similarity(model, \"Koyomi\", \"Araragi\"))\n",
    "print(cosine_similarity(model, \"Karen\", \"Araragi\"))\n",
    "print(cosine_similarity(model, \"Karen\", \"Koyomi\"))\n",
    "print(cosine_similarity(model, \"Mayoi\", \"Koi\"))"
   ]
  },
  {
   "cell_type": "code",
   "execution_count": null,
   "metadata": {},
   "outputs": [],
   "source": [
    "import pandas as pd\n",
    "import requests\n",
    "\n",
    "df = pd.DataFrame(columns=['anchor'])"
   ]
  },
  {
   "cell_type": "code",
   "execution_count": null,
   "metadata": {},
   "outputs": [],
   "source": [
    "df"
   ]
  },
  {
   "cell_type": "code",
   "execution_count": null,
   "metadata": {},
   "outputs": [],
   "source": [
    "response = requests.post('http://localhost:5173/api/data/filter', json={ \"filters\": ['Characters', 'Novels', 'Oddities', 'Oddity Characters', 'Oddity Inflicted Characters', 'Oddity Specialists', 'Oddity Type', 'Terminology', 'Vampire Hunter', 'Vampires']})\n",
    "response.json()"
   ]
  },
  {
   "cell_type": "code",
   "execution_count": null,
   "metadata": {},
   "outputs": [],
   "source": [
    "items = []\n",
    "for item in response.json():\n",
    "    items.append({'anchor': item.get(\"id\")})"
   ]
  },
  {
   "cell_type": "code",
   "execution_count": null,
   "metadata": {},
   "outputs": [],
   "source": [
    "df = pd.DataFrame(items, columns=['anchor', 'embedding'])"
   ]
  },
  {
   "cell_type": "code",
   "execution_count": null,
   "metadata": {},
   "outputs": [],
   "source": [
    "df['embedding'] = df['anchor'].apply(lambda x: model.encode(x))"
   ]
  },
  {
   "cell_type": "code",
   "execution_count": null,
   "metadata": {},
   "outputs": [],
   "source": [
    "df"
   ]
  },
  {
   "cell_type": "code",
   "execution_count": null,
   "metadata": {},
   "outputs": [],
   "source": [
    "# use postgres to store the embeddings\n",
    "import psycopg2\n",
    "from psycopg2 import sql\n",
    "\n",
    "conn = psycopg2.connect(\"dbname=monogatari user=alex password=password\")\n",
    "\n",
    "## table schema:\n",
    "#public.embeddings\n",
    "#(\n",
    "#id character varying COLLATE pg_catalog.\"default\" NOT NULL,\n",
    "#vec vector(384) NOT NULL,\n",
    "#CONSTRAINT embeddings_pkey PRIMARY KEY (id)\n",
    "#)\n",
    "\n",
    "print(conn)"
   ]
  },
  {
   "cell_type": "code",
   "execution_count": null,
   "metadata": {},
   "outputs": [],
   "source": [
    "cur = conn.cursor()\n",
    "\n",
    "# insert the embeddings\n",
    "for index, row in df.iterrows():\n",
    "    cur.execute(\n",
    "        sql.SQL(\"INSERT INTO embeddings (id, vec) VALUES (%s, %s)\"),\n",
    "        [row['anchor'], row['embedding'].tolist()]\n",
    "    )\n",
    "\n",
    "conn.commit()"
   ]
  },
  {
   "cell_type": "code",
   "execution_count": null,
   "metadata": {},
   "outputs": [],
   "source": [
    "conn.close()"
   ]
  },
  {
   "cell_type": "code",
   "execution_count": null,
   "metadata": {},
   "outputs": [],
   "source": [
    "for index, row in df.iterrows():\n",
    "    anchor, embedding = row\n",
    "    print(anchor)\n",
    "    similar = []\n",
    "    for index_2, row_2 in df.iterrows():\n",
    "        anchor2 = row_2['anchor']\n",
    "        similar.append({\"anchor\": anchor2, \"similarity\": cosine_similarity(model, anchor, anchor2)})\n",
    "    \n",
    "    similar = pd.DataFrame(similar, columns=['anchor', 'similarity'])\n",
    "    similar = similar.sort_values('similarity', ascending=False).head(5)\n",
    "    print(similar)\n",
    "    print()\n",
    "    "
   ]
  },
  {
   "cell_type": "code",
   "execution_count": null,
   "metadata": {},
   "outputs": [],
   "source": [
    "model= SentenceTransformer('all-MiniLM-L6-v2/', device='cuda')"
   ]
  },
  {
   "cell_type": "code",
   "execution_count": null,
   "metadata": {},
   "outputs": [],
   "source": [
    "import pandas as pd\n",
    "\n",
    "spoilers = pd.read_json(\"tvtropes.json\")\n",
    "spoilers"
   ]
  },
  {
   "cell_type": "code",
   "execution_count": null,
   "metadata": {},
   "outputs": [],
   "source": [
    "spoiler = spoilers.query('label == False').sample(1).to_dict(orient='records')[0].get(\"text\")\n",
    "spoiler"
   ]
  },
  {
   "cell_type": "code",
   "execution_count": null,
   "metadata": {},
   "outputs": [],
   "source": [
    "import re\n",
    "\n",
    "spoiler = re.sub(r'[^\\w\\s]', '', spoiler)\n",
    "matches = re.findall(r'(?:\\w+\\s*){,5}', spoiler)\n",
    "matches = [match.strip() for match in matches if match != '']\n",
    "matches"
   ]
  },
  {
   "cell_type": "code",
   "execution_count": null,
   "metadata": {},
   "outputs": [],
   "source": [
    "def get_similar_records(text):\n",
    "    similar = []\n",
    "    for _, row in df.iterrows():\n",
    "        similar.append({\"text\": row['anchor'], \"similarity\": cosine_similarity(model, text, row['anchor'])})\n",
    "    similar = pd.DataFrame(similar, columns=['text', 'similarity'])\n",
    "    similar = similar.sort_values('similarity', ascending=False)['text'].head(5).to_dict()\n",
    "    return similar"
   ]
  },
  {
   "cell_type": "code",
   "execution_count": null,
   "metadata": {},
   "outputs": [],
   "source": [
    "for match in matches:\n",
    "    # print(f'finding matches for:\\t{match}')\n",
    "    similar = list(get_similar_records(match).values())\n",
    "    print(similar)"
   ]
  },
  {
   "cell_type": "code",
   "execution_count": null,
   "metadata": {},
   "outputs": [],
   "source": [
    "for match in matches:\n",
    "    print(f'finding matches for:\\t{match}')\n",
    "    similar = get_similar_records(match).values()\n",
    "    print(similar)"
   ]
  }
 ],
 "metadata": {
  "kernelspec": {
   "display_name": "Python 3",
   "language": "python",
   "name": "python3"
  },
  "language_info": {
   "codemirror_mode": {
    "name": "ipython",
    "version": 3
   },
   "file_extension": ".py",
   "mimetype": "text/x-python",
   "name": "python",
   "nbconvert_exporter": "python",
   "pygments_lexer": "ipython3",
   "version": "3.12.9"
  }
 },
 "nbformat": 4,
 "nbformat_minor": 2
}
